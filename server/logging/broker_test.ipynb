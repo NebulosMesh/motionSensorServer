{
 "cells": [
  {
   "cell_type": "code",
   "execution_count": null,
   "id": "bdc6d8f8-6ba4-4fdb-a420-78ec935b28b7",
   "metadata": {},
   "outputs": [],
   "source": [
    "from kafka import KafkaProducer, KafkaConsumer\n",
    "\n",
    "#initialize producer\n",
    "producer = KafkaProducer(bootstrap_servers=['kafka:9094'],\n",
    "              api_version=(0,11,5))\n",
    "#send message\n",
    "producer.send('jupyter-test', b'Hello, Kafka2')"
   ]
  },
  {
   "cell_type": "code",
   "execution_count": null,
   "id": "fc2107cf-ef6c-451a-bebd-3796aa91613e",
   "metadata": {},
   "outputs": [],
   "source": [
    "from kafka import KafkaConsumer\n",
    "\n",
    "# initialize consumer\n",
    "consumer = KafkaConsumer(\n",
    "    'jupyter-test',\n",
    "    bootstrap_servers='kafka:9094',\n",
    "    auto_offset_reset='earliest',\n",
    "    enable_auto_commit=True,\n",
    "    group_id='1'\n",
    ")\n",
    "\n",
    "# receive data and print\n",
    "for message in consumer:\n",
    "    print(f\"Received message: {message.value.decode('utf-8')}\")"
   ]
  }
 ],
 "metadata": {
  "kernelspec": {
   "display_name": "Python 3 (ipykernel)",
   "language": "python",
   "name": "python3"
  },
  "language_info": {
   "codemirror_mode": {
    "name": "ipython",
    "version": 3
   },
   "file_extension": ".py",
   "mimetype": "text/x-python",
   "name": "python",
   "nbconvert_exporter": "python",
   "pygments_lexer": "ipython3",
   "version": "3.9.23"
  }
 },
 "nbformat": 4,
 "nbformat_minor": 5
}
